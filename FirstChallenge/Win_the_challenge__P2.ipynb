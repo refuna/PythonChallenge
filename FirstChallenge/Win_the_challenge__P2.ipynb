{
 "cells": [
  {
   "cell_type": "code",
   "execution_count": 1,
   "id": "2e8ff3b2",
   "metadata": {},
   "outputs": [],
   "source": [
    "from typing import List, Set\n",
    "import random\n",
    "import matplotlib.pyplot as plt\n",
    "import networkx as nx\n",
    "import scipy\n",
    "from tqdm import tqdm\n",
    "import time\n",
    "import itertools\n",
    "\n",
    "from networkx.algorithms.approximation.traveling_salesman import christofides\n",
    "from networkx.utils import pairwise"
   ]
  },
  {
   "cell_type": "code",
   "execution_count": 2,
   "id": "4bb707c8",
   "metadata": {},
   "outputs": [],
   "source": [
    "class Tableau:\n",
    "    idx: int\n",
    "    style: str           # Landscape or Portrait\n",
    "    nb_text: int         # Nb texts\n",
    "    tags: Set[str]       # Set of tags\n",
    "\n",
    "    def __init__(self, ligne, idx):\n",
    "        self.idx     = idx\n",
    "        infos        = ligne.split()\n",
    "        self.style   = infos[0]\n",
    "        self.nb_text = int(infos[1])\n",
    "        self.tags    = set(infos[2:])\n",
    "    \n",
    "    def __repr__(self):\n",
    "        return f\"Tableau(style={self.style}, tags={self.tags})\""
   ]
  },
  {
   "cell_type": "code",
   "execution_count": 3,
   "id": "22e827e8",
   "metadata": {},
   "outputs": [],
   "source": [
    "class FrameGlass:\n",
    "    idx: str\n",
    "    tableaux: List[Tableau]\n",
    "    tags: Set[str]\n",
    "        \n",
    "    def __repr__(self):\n",
    "        return f\"FrameGlass(id={self.idx},tags={self.tags})\"\n",
    "    \n",
    "\n",
    "class PortraitFG(FrameGlass):    \n",
    "    def __init__(self, P1, P2):\n",
    "        self.tableaux = [P1, P2]\n",
    "        self.tags = P1.tags.union(P2.tags)\n",
    "        self.idx = str(P1.idx) + 'P' + str(P2.idx)\n",
    "\n",
    "\n",
    "class LandscapeFG(FrameGlass):\n",
    "    def __init__(self, L):\n",
    "        self.tableaux = [L]\n",
    "        self.tags = L.tags\n",
    "        self.idx = str(L.idx) + 'L' "
   ]
  },
  {
   "cell_type": "code",
   "execution_count": 4,
   "id": "ab9f33d1",
   "metadata": {},
   "outputs": [],
   "source": [
    "def load_tableaux(file):\n",
    "    tableaux = []\n",
    "    with open(file) as f:\n",
    "        line = f.readline()\n",
    "        line = f.readline()\n",
    "        idx = 1\n",
    "        while line:\n",
    "            tableaux.append(Tableau(line, idx))\n",
    "            idx += 1\n",
    "            line = f.readline()\n",
    "    return tableaux"
   ]
  },
  {
   "cell_type": "code",
   "execution_count": 5,
   "id": "017ba83a",
   "metadata": {},
   "outputs": [],
   "source": [
    "def satisfaction(fg1, fg2):\n",
    "    return min(len(fg1.tags - fg2.tags), len(fg1.tags & fg2.tags), len(fg2.tags - fg1.tags))\n",
    "\n",
    "def total_satisfaction(list_fg):\n",
    "    return sum([satisfaction(fg1, fg2) for fg1, fg2 in zip(list_fg[:-1], list_fg[1:])])"
   ]
  },
  {
   "cell_type": "code",
   "execution_count": 6,
   "id": "68dc1e09",
   "metadata": {},
   "outputs": [],
   "source": [
    "# Optimisation algorithms : Traveler salesmans problem\n",
    "\n",
    "def greedy_tsp(G, score=\"score\", source=None, monitor = True):\n",
    "    \n",
    "    if source is None:\n",
    "        source = nx.utils.arbitrary_element(G)\n",
    "\n",
    "    if G.number_of_nodes() == 2:\n",
    "        neighbor = next(G.neighbors(source))\n",
    "        return [source, neighbor, source]\n",
    "\n",
    "    nodeset = set(G)\n",
    "    nodeset.remove(source)\n",
    "    path = [source]\n",
    "    next_node = source\n",
    "    if monitor:\n",
    "        with tqdm(total=len(nodeset)) as pbar:\n",
    "            while nodeset:\n",
    "                nbrdict = G[next_node]\n",
    "                # Récupérer un élément au hasard dans nodeset et le remettre\n",
    "                random_available = nodeset.pop()\n",
    "                nodeset.add(random_available)\n",
    "                candidates = [k for k in nbrdict.keys() if k in nodeset] + [random_available]\n",
    "                next_node = max(candidates, key=lambda n: nbrdict[n].get(score) if n in nbrdict else 0)\n",
    "                path.append(next_node)\n",
    "                nodeset.remove(next_node)\n",
    "                pbar.update(1)\n",
    "    else:\n",
    "        while nodeset:\n",
    "            nbrdict = G[next_node]\n",
    "            # Récupérer un élément au hasard dans nodeset et le remettre\n",
    "            random_available = nodeset.pop()\n",
    "            nodeset.add(random_available)\n",
    "            candidates = [k for k in nbrdict.keys() if k in nodeset] + [random_available]\n",
    "            next_node = max(candidates, key=lambda n: nbrdict[n].get(score) if n in nbrdict else 0)\n",
    "            path.append(next_node)\n",
    "            nodeset.remove(next_node)\n",
    "    return path"
   ]
  },
  {
   "cell_type": "code",
   "execution_count": 7,
   "id": "ccca750c",
   "metadata": {},
   "outputs": [],
   "source": [
    "def random_fgs(tableaux):\n",
    "    landscapes = [t for t in tableaux if t.style == 'L']\n",
    "    portraits  = [t for t in tableaux if t.style == 'P']\n",
    "    \n",
    "    random.shuffle(portraits)\n",
    "    \n",
    "    portraits_1, portraits_2 = portraits[::2], portraits[1::2]\n",
    "    \n",
    "    fgs = [LandscapeFG(t) for t in landscapes] + [PortraitFG(t1, t2) for t1, t2 in zip(portraits_1, portraits_2)]\n",
    "    \n",
    "    return fgs\n",
    "\n",
    "def equitags_fgs(tableaux):\n",
    "    landscapes = [t for t in tableaux if t.style == 'L']\n",
    "    portraits  = [t for t in tableaux if t.style == 'P']\n",
    "    \n",
    "    portraits.sort(key = lambda t: len(t.tags))\n",
    "    \n",
    "    l = len(portraits)\n",
    "    \n",
    "    portraits_1, portraits_2 = portraits[:l//2], portraits[-1:(l//2):-1]\n",
    "    \n",
    "    fgs = [LandscapeFG(t) for t in landscapes] + [PortraitFG(t1, t2) for t1, t2 in zip(portraits_1, portraits_2)]\n",
    "    \n",
    "    return fgs\n",
    "\n",
    "def store_data(fgs):\n",
    "    idx_to_tags = {fg.idx:fg.tags for fg in fgs}\n",
    "    idx_to_fg   = {fg.idx:fg for fg in fgs}\n",
    "    \n",
    "    available_tags = set().union(*[fg.tags for fg in fgs])\n",
    "    \n",
    "    tag_to_idxs = {t:[] for t in available_tags}\n",
    "    for idx, tags in idx_to_tags.items():\n",
    "        for tag in tags:\n",
    "            tag_to_idxs[tag].append(idx)\n",
    "    \n",
    "    return idx_to_tags, idx_to_fg, available_tags, tag_to_idxs\n",
    "\n",
    "def divide(fgs, n_batchs):\n",
    "    return [ fgs[k*n_batchs:(k+1)*n_batchs] for k in range(len(fgs)//n_batchs) ]\n",
    "\n",
    "def create_graph(couples, idx_to_tags, idx_to_fg):    \n",
    "    G = nx.Graph()\n",
    "    G.add_nodes_from(idx_to_tags)\n",
    "    G.add_edges_from(couples, score = 0)\n",
    "    for idx_start,idx_end in couples:\n",
    "        G[idx_start][idx_end]['score'] = satisfaction(idx_to_fg[idx_start], idx_to_fg[idx_end])\n",
    "    return G\n",
    "\n",
    "def find_all_couples(tag_to_idxs):\n",
    "    couples = []\n",
    "    for tag, idxs in tqdm(tag_to_idxs.items()):\n",
    "        for a,b in itertools.combinations(idxs, 2):            \n",
    "            couples.append((a,b))\n",
    "    return couples\n"
   ]
  },
  {
   "cell_type": "code",
   "execution_count": 8,
   "id": "1066b2b3",
   "metadata": {},
   "outputs": [],
   "source": [
    "def dq_assign(tableaux, size=500):\n",
    "    # Initialising frameglasses\n",
    "    fgs = random_fgs(tableaux)\n",
    "\n",
    "    # Storing the data into dictionnaries\n",
    "    idx_to_tags, idx_to_fg, available_tags, tag_to_idxs = store_data(fgs)\n",
    "\n",
    "    # Divide\n",
    "    li_fgs = divide(fgs, size)\n",
    "\n",
    "    results = []\n",
    "    \n",
    "    for small in tqdm(li_fgs):\n",
    "        \n",
    "        indexes = [s.idx for s in small]\n",
    "        \n",
    "        couples = list(itertools.combinations(indexes, 2))\n",
    "        \n",
    "        G = create_graph(couples, indexes, idx_to_fg)\n",
    "        \n",
    "        path = greedy_tsp(G, monitor = False)\n",
    "        \n",
    "        small_fgs = [idx_to_fg[i] for i in path]\n",
    "        \n",
    "        results += small_fgs\n",
    "\n",
    "    return results\n",
    "\n",
    "def general_assign(tableaux):\n",
    "    \n",
    "    # Initialising frameglasses\n",
    "    fgs = random_fgs(tableaux)\n",
    "    \n",
    "    # Storing the data into dictionnaries\n",
    "    idx_to_tags, idx_to_fg, available_tags, tag_to_idxs = store_data(fgs)\n",
    "            \n",
    "    # Find all couples\n",
    "    couples = find_all_couples(tag_to_idxs)\n",
    "            \n",
    "    #Create a graph\n",
    "    G = create_graph(couples, idx_to_tags, idx_to_fg)\n",
    "\n",
    "    path = greedy_tsp(G)\n",
    "    \n",
    "    fgs = [idx_to_fg[idx] for idx in path]\n",
    "    \n",
    "    return fgs\n",
    "\n",
    "def randomizing_assign(tableaux):\n",
    "    \n",
    "    fgs = random_fgs(tableaux)\n",
    "    \n",
    "    return fgs"
   ]
  },
  {
   "cell_type": "code",
   "execution_count": 9,
   "id": "f925cc5d",
   "metadata": {},
   "outputs": [],
   "source": [
    "def write_results(fgs, fname):\n",
    "    with open(fname, 'w') as f:\n",
    "        f.write(str(len(fgs))+'\\n')\n",
    "        for fg in fgs:\n",
    "            line = fg.idx.replace('L', '').replace('P', ' ')+'\\n'\n",
    "            f.write(line)"
   ]
  },
  {
   "cell_type": "code",
   "execution_count": 10,
   "id": "116d31e9",
   "metadata": {},
   "outputs": [
    {
     "name": "stderr",
     "output_type": "stream",
     "text": [
      "100%|█████████████████████████████████████████████████████████████████████| 840000/840000 [00:00<00:00, 1447155.30it/s]\n",
      "100%|████████████████████████████████████████████████████████████████████████| 79999/79999 [00:00<00:00, 159923.73it/s]\n"
     ]
    },
    {
     "name": "stdout",
     "output_type": "stream",
     "text": [
      "Total satisfaction :  205677\n"
     ]
    }
   ],
   "source": [
    "# Available : '0_example.txt', '1_binary_landscapes.txt', '10_computable_moments.txt', '11_randomizing_paintings.txt', '110_oily_portraits.txt'\n",
    "filename = '1_binary_landscapes'\n",
    "\n",
    "file     = filename + '.txt'\n",
    "file_out = filename + '_solution.txt'\n",
    "tableaux = load_tableaux(file)\n",
    "fgs = general_assign(tableaux)\n",
    "print('Total satisfaction : ', total_satisfaction(fgs))\n",
    "write_results(fgs, file_out)"
   ]
  },
  {
   "cell_type": "code",
   "execution_count": 11,
   "id": "d482080d",
   "metadata": {},
   "outputs": [
    {
     "name": "stderr",
     "output_type": "stream",
     "text": [
      "100%|██████████████████████████████████████████████████████████████████████████| 2036/2036 [00:00<00:00, 185570.93it/s]\n",
      "100%|█████████████████████████████████████████████████████████████████████████████| 749/749 [00:00<00:00, 22088.17it/s]\n"
     ]
    },
    {
     "name": "stdout",
     "output_type": "stream",
     "text": [
      "Total satisfaction :  1498\n"
     ]
    }
   ],
   "source": [
    "filename = '10_computable_moments' \n",
    "\n",
    "file     = filename + '.txt'\n",
    "file_out = filename + '_solution.txt'\n",
    "tableaux = load_tableaux(file)\n",
    "fgs = general_assign(tableaux)\n",
    "print('Total satisfaction : ', total_satisfaction(fgs))\n",
    "write_results(fgs, file_out)"
   ]
  },
  {
   "cell_type": "code",
   "execution_count": 12,
   "id": "2e78d2cc",
   "metadata": {},
   "outputs": [
    {
     "name": "stderr",
     "output_type": "stream",
     "text": [
      "100%|██████████████████████████████████████████████████████████████████████████████████| 60/60 [02:26<00:00,  2.44s/it]\n"
     ]
    },
    {
     "name": "stdout",
     "output_type": "stream",
     "text": [
      "Total satisfaction :  379547\n"
     ]
    }
   ],
   "source": [
    "filename = '11_randomizing_paintings'\n",
    "\n",
    "file     = filename + '.txt'\n",
    "file_out = filename + '_solution.txt'\n",
    "tableaux = load_tableaux(file)\n",
    "fgs = dq_assign(tableaux, size = 1000)\n",
    "print('Total satisfaction : ', total_satisfaction(fgs))\n",
    "write_results(fgs, file_out)"
   ]
  },
  {
   "cell_type": "code",
   "execution_count": 14,
   "id": "e8fc6c98",
   "metadata": {},
   "outputs": [
    {
     "name": "stderr",
     "output_type": "stream",
     "text": [
      "100%|██████████████████████████████████████████████████████████████████████████████████| 80/80 [01:16<00:00,  1.05it/s]\n"
     ]
    },
    {
     "name": "stdout",
     "output_type": "stream",
     "text": [
      "Total satisfaction :  304453\n"
     ]
    }
   ],
   "source": [
    "filename = '110_oily_portraits'\n",
    "\n",
    "file     = filename + '.txt'\n",
    "file_out = filename + '_solution.txt'\n",
    "tableaux = load_tableaux(file, size = 1000)\n",
    "fgs      = dq_assign(tableaux)\n",
    "print('Total satisfaction : ', total_satisfaction(fgs))\n",
    "write_results(fgs, file_out)"
   ]
  }
 ],
 "metadata": {
  "kernelspec": {
   "display_name": "Python 3 (ipykernel)",
   "language": "python",
   "name": "python3"
  },
  "language_info": {
   "codemirror_mode": {
    "name": "ipython",
    "version": 3
   },
   "file_extension": ".py",
   "mimetype": "text/x-python",
   "name": "python",
   "nbconvert_exporter": "python",
   "pygments_lexer": "ipython3",
   "version": "3.9.10"
  }
 },
 "nbformat": 4,
 "nbformat_minor": 5
}
